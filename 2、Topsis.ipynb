{
 "cells": [
  {
   "cell_type": "code",
   "execution_count": 25,
   "metadata": {},
   "outputs": [],
   "source": [
    "import numpy as np"
   ]
  },
  {
   "cell_type": "code",
   "execution_count": 26,
   "metadata": {},
   "outputs": [],
   "source": [
    "def Topsis():\n",
    "    print('请输入参评数目：')\n",
    "    n = int(input())\n",
    "\n",
    "    print('请输入指标数目：')\n",
    "    m = int(input())\n",
    "\n",
    "    print('请输入类型矩阵：1：极大型 2：极小型 3：中间型 4：区间型')\n",
    "    kind = input().split(\" \")\n",
    "\n",
    "    print('请输入矩阵：')\n",
    "    A = np.zeros(shape=(n, m))\n",
    "    for i in range(n):\n",
    "        A[i] = input().split(\" \")\n",
    "        A[i] = list(map(float, A[i]))\n",
    "    print(f'输入的矩阵为：\\n{format(A)}')\n",
    "    return n, m, kind, A"
   ]
  },
  {
   "cell_type": "code",
   "execution_count": 27,
   "metadata": {},
   "outputs": [],
   "source": [
    "def MinToMax(maxx, x):\n",
    "    x = list(x)\n",
    "    ans = [[maxx - e] for e in x]\n",
    "    return np.array(ans)"
   ]
  },
  {
   "cell_type": "code",
   "execution_count": 28,
   "metadata": {},
   "outputs": [],
   "source": [
    "def MidToMax(betsx, x):\n",
    "    x = list(x)\n",
    "    h = [abs(e - betsx) for e in x]\n",
    "    M = max(h)\n",
    "    if M == 0:\n",
    "        M = 1\n",
    "    ans = [[1 - e/M] for e in h]\n",
    "    return np.array(ans)"
   ]
  },
  {
   "cell_type": "code",
   "execution_count": 29,
   "metadata": {},
   "outputs": [],
   "source": [
    "def RegToMax(lowx, highx, x):\n",
    "    x = list(x)\n",
    "    M = max(lowx - min(x), max(x) - highx)\n",
    "    if M == 0:\n",
    "        M = 1\n",
    "    ans = []\n",
    "    for i in range(len(x)):\n",
    "        if x[i] < lowx:\n",
    "            ans.append([(1 - (lowx - x[i]) / M)])\n",
    "        elif x[i] > highx:\n",
    "            ans.append([(1 - (x[i] - highx) / M)])\n",
    "        else:\n",
    "            ans.append([1])\n",
    "    return np.array(ans)"
   ]
  },
  {
   "cell_type": "code",
   "execution_count": 30,
   "metadata": {},
   "outputs": [
    {
     "name": "stdout",
     "output_type": "stream",
     "text": [
      "请输入参评数目：\n",
      "请输入指标数目：\n",
      "请输入类型矩阵：1：极大型 2：极小型 3：中间型 4：区间型\n",
      "请输入矩阵：\n",
      "输入的矩阵为：\n",
      "[[  9.  10. 175. 120.]\n",
      " [  8.   7. 164.  80.]\n",
      " [  6.   3. 157.  90.]]\n"
     ]
    }
   ],
   "source": [
    "n, m, kind, A = Topsis()"
   ]
  },
  {
   "cell_type": "code",
   "execution_count": 31,
   "metadata": {},
   "outputs": [
    {
     "name": "stdout",
     "output_type": "stream",
     "text": [
      "类型三，请输入最优值：\n",
      "类型四，请输入区间上界a：\n",
      "类型四，请输入区间下界b：\n",
      "统一指标后矩阵为：[[9.  0.  0.  0. ]\n",
      " [8.  3.  0.9 0.5]\n",
      " [6.  7.  0.2 1. ]]\n",
      "标准化矩阵为：\n",
      "[[0.66896473 0.         0.         0.        ]\n",
      " [0.59463532 0.3939193  0.97618706 0.4472136 ]\n",
      " [0.44597649 0.91914503 0.21693046 0.89442719]]\n",
      "每个指标的最大值为：[0.66896473 0.91914503 0.97618706 0.89442719]\n",
      "每个指标的最小值为：[0.44597649 0.         0.         0.        ]\n",
      "d+向量：[1.61175952 0.69382053 0.79132442]\n",
      "d-向量：[0.22298824 1.15334862 1.30072534]\n",
      "第1个项目的得分为：8.886366735657832\n",
      "第2个项目的得分为：45.653341055701134\n",
      "第3个项目的得分为：45.46029220864103\n"
     ]
    }
   ],
   "source": [
    "X = np.zeros(shape=(n, 1))\n",
    "for i in range(m):\n",
    "    if kind[i] == \"1\":\n",
    "        v = np.array(A[:, i])\n",
    "    elif kind[i] == \"2\":\n",
    "        maxA = max(A[:, i])\n",
    "        v = MinToMax(maxA, A[:, i])\n",
    "    elif kind[i] == \"3\":\n",
    "        print('类型三，请输入最优值：')\n",
    "        bestA = eval(input())\n",
    "        v = MidToMax(bestA, A[:, i])\n",
    "    elif kind[i] == \"4\":\n",
    "        print('类型四，请输入区间上界a：')\n",
    "        lowA = eval(input())\n",
    "        print('类型四，请输入区间下界b：')\n",
    "        highA = eval(input())\n",
    "        v = RegToMax(lowA, highA, A[:, i])\n",
    "    if i == 0:\n",
    "        X = v.reshape(-1, 1)\n",
    "    else:\n",
    "        X = np.hstack((X, v.reshape(-1, 1)))\n",
    "print(f'统一指标后矩阵为：{format(X)}')\n",
    "\n",
    "X = X.astype('float')\n",
    "for j in range(m):\n",
    "    X[:, j] = X[:, j] / np.sqrt(sum(X[:, j] ** 2))\n",
    "print(f'标准化矩阵为：\\n{format(X)}')\n",
    "\n",
    "x_max = np.max(X, axis=0)\n",
    "x_min = np.min(X, axis=0)\n",
    "d_z = np.sqrt(np.sum(np.square(X - np.tile(x_max, (n, 1))), axis=1))\n",
    "d_f = np.sqrt(np.sum(np.square(X - np.tile(x_min, (n, 1))), axis=1))\n",
    "print(f'每个指标的最大值为：{x_max}')\n",
    "print(f'每个指标的最小值为：{x_min}')\n",
    "print(f'd+向量：{d_z}')\n",
    "print(f'd-向量：{d_f}')\n",
    "\n",
    "s = d_f / (d_z + d_f)\n",
    "score = 100 * s / sum(s)\n",
    "for i in range(len(score)):\n",
    "    print(f'第{i+1}个项目的得分为：{score[i]}')"
   ]
  }
 ],
 "metadata": {
  "kernelspec": {
   "display_name": "dl",
   "language": "python",
   "name": "python3"
  },
  "language_info": {
   "codemirror_mode": {
    "name": "ipython",
    "version": 3
   },
   "file_extension": ".py",
   "mimetype": "text/x-python",
   "name": "python",
   "nbconvert_exporter": "python",
   "pygments_lexer": "ipython3",
   "version": "3.9.18"
  }
 },
 "nbformat": 4,
 "nbformat_minor": 2
}
