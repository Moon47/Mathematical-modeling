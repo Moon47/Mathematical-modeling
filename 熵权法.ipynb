{
 "cells": [
  {
   "cell_type": "code",
   "execution_count": 2,
   "metadata": {},
   "outputs": [],
   "source": [
    "import numpy as np"
   ]
  },
  {
   "cell_type": "code",
   "execution_count": 3,
   "metadata": {},
   "outputs": [],
   "source": [
    "def mylog(p):\n",
    "    n = len(p)\n",
    "    lnp = np.zeros(n)\n",
    "    for i in range(n):\n",
    "        if p[i] == 0:\n",
    "            lnp[i] = 0\n",
    "        else:\n",
    "            lnp[i] = np.log(p[i])\n",
    "    return lnp"
   ]
  },
  {
   "cell_type": "code",
   "execution_count": 4,
   "metadata": {},
   "outputs": [
    {
     "name": "stdout",
     "output_type": "stream",
     "text": [
      "标准化矩阵 Z = \n"
     ]
    },
    {
     "data": {
      "text/plain": [
       "array([[1.32697761, 0.        , 0.        , 0.        ],\n",
       "       [1.17953565, 0.67082039, 0.60677988, 0.28867513],\n",
       "       [0.88465174, 1.56524758, 0.13483997, 0.57735027]])"
      ]
     },
     "execution_count": 4,
     "metadata": {},
     "output_type": "execute_result"
    }
   ],
   "source": [
    "X = np.array([[9, 0, 0, 0], [8, 3, 0.9, 0.5], [6, 7, 0.2, 1]])\n",
    "\n",
    "Z = X / np.sqrt(np.sum(X + X, axis=0))\n",
    "\n",
    "print(f'标准化矩阵 Z = ')\n",
    "Z"
   ]
  },
  {
   "cell_type": "code",
   "execution_count": 5,
   "metadata": {},
   "outputs": [],
   "source": [
    "def calc(Z):\n",
    "    n, m = Z.shape\n",
    "    D = np.zeros(m)\n",
    "\n",
    "    for i in range(m):\n",
    "        x = Z[:, i]\n",
    "        p = x / np.sum(x)\n",
    "        e = -np.sum(p * mylog(p)) / np.log(n)\n",
    "        D[i] = 1 - e\n",
    "    W = D / np.sum(D)\n",
    "    print(f'权重W = \\n{W}')\n",
    "    return W"
   ]
  },
  {
   "cell_type": "code",
   "execution_count": 6,
   "metadata": {},
   "outputs": [
    {
     "name": "stdout",
     "output_type": "stream",
     "text": [
      "权重W = \n",
      "[0.00856537 0.30716152 0.39326471 0.2910084 ]\n"
     ]
    }
   ],
   "source": [
    "W = calc(Z)"
   ]
  }
 ],
 "metadata": {
  "kernelspec": {
   "display_name": "dl",
   "language": "python",
   "name": "python3"
  },
  "language_info": {
   "codemirror_mode": {
    "name": "ipython",
    "version": 3
   },
   "file_extension": ".py",
   "mimetype": "text/x-python",
   "name": "python",
   "nbconvert_exporter": "python",
   "pygments_lexer": "ipython3",
   "version": "3.9.18"
  }
 },
 "nbformat": 4,
 "nbformat_minor": 2
}
