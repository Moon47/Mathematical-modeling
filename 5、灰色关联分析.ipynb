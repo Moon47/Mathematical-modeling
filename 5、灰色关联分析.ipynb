{
 "cells": [
  {
   "cell_type": "code",
   "execution_count": 1,
   "metadata": {},
   "outputs": [],
   "source": [
    "import numpy as np"
   ]
  },
  {
   "cell_type": "code",
   "execution_count": 2,
   "metadata": {},
   "outputs": [
    {
     "data": {
      "text/plain": [
       "array([[ 55,  24,  10],\n",
       "       [ 65,  38,  22],\n",
       "       [ 75,  40,  18],\n",
       "       [100,  50,  20]])"
      ]
     },
     "execution_count": 2,
     "metadata": {},
     "output_type": "execute_result"
    }
   ],
   "source": [
    "# A = np.array(eval(input('请输入原始矩阵:')))\n",
    "A = np.array([[55, 24, 10], [65, 38, 22], [75, 40, 18], [100, 50, 20]])\n",
    "A"
   ]
  },
  {
   "cell_type": "code",
   "execution_count": 3,
   "metadata": {},
   "outputs": [
    {
     "name": "stdout",
     "output_type": "stream",
     "text": [
      "预处理后的矩阵为:\n",
      "[[0.74576271 0.63157895 0.57142857]\n",
      " [0.88135593 1.         1.25714286]\n",
      " [1.01694915 1.05263158 1.02857143]\n",
      " [1.3559322  1.31578947 1.14285714]]\n"
     ]
    }
   ],
   "source": [
    "Mean = np.mean(A, axis=0)\n",
    "A_norm = A / Mean\n",
    "print(f'预处理后的矩阵为:\\n{A_norm}')"
   ]
  },
  {
   "cell_type": "code",
   "execution_count": 5,
   "metadata": {},
   "outputs": [
    {
     "data": {
      "text/plain": [
       "array([[0.11418376, 0.17433414],\n",
       "       [0.11864407, 0.37578692],\n",
       "       [0.03568243, 0.01162228],\n",
       "       [0.04014273, 0.21307506]])"
      ]
     },
     "execution_count": 5,
     "metadata": {},
     "output_type": "execute_result"
    }
   ],
   "source": [
    "Y = A_norm[:, 0]\n",
    "\n",
    "X = A_norm[:, 1:]\n",
    "\n",
    "absX0_Xi = np.abs(X - np.tile(Y.reshape(-1, 1), (1, X.shape[1])))\n",
    "absX0_Xi"
   ]
  },
  {
   "cell_type": "code",
   "execution_count": 9,
   "metadata": {},
   "outputs": [],
   "source": [
    "a = np.min(absX0_Xi)\n",
    "b = np.max(absX0_Xi)\n",
    "rho = 0.5\n",
    "gamma = (a + rho * b) / (absX0_Xi + rho * b)"
   ]
  },
  {
   "cell_type": "code",
   "execution_count": 12,
   "metadata": {},
   "outputs": [
    {
     "name": "stdout",
     "output_type": "stream",
     "text": [
      "子序列中各个指标的灰色关联度分别为:\n",
      "[0.76966578 0.60058464]\n"
     ]
    }
   ],
   "source": [
    "print(f'子序列中各个指标的灰色关联度分别为:\\n{np.mean(gamma, axis=0)}')"
   ]
  }
 ],
 "metadata": {
  "kernelspec": {
   "display_name": "dl",
   "language": "python",
   "name": "python3"
  },
  "language_info": {
   "codemirror_mode": {
    "name": "ipython",
    "version": 3
   },
   "file_extension": ".py",
   "mimetype": "text/x-python",
   "name": "python",
   "nbconvert_exporter": "python",
   "pygments_lexer": "ipython3",
   "version": "3.9.18"
  }
 },
 "nbformat": 4,
 "nbformat_minor": 2
}
