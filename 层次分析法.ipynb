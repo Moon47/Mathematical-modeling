{
 "cells": [
  {
   "cell_type": "markdown",
   "metadata": {},
   "source": [
    "#### 1、一致性检验"
   ]
  },
  {
   "cell_type": "code",
   "execution_count": 9,
   "metadata": {},
   "outputs": [],
   "source": [
    "import numpy as np\n",
    "\n",
    "A = np.array([[1, 2, 3, 5], [1/2, 1, 1/2, 2], [1/3, 2, 1, 2], [1/5, 1/2, 1/2, 1]])"
   ]
  },
  {
   "cell_type": "code",
   "execution_count": 10,
   "metadata": {},
   "outputs": [],
   "source": [
    "def Consistency_checks(A):\n",
    "    n = A.shape[0]\n",
    "\n",
    "    eig_val, eig_vec = np.linalg.eig(A)\n",
    "    Max_eig = max(eig_val)\n",
    "\n",
    "    CI = (Max_eig - n) / (n - 1)\n",
    "    RI = [0, 0.0001, 0.52, 0.89, 1.12, 1.26, 1.36, 1.41, 1.46, 1.49, 1.52, 1.54, 1.56, 1.58, 1.59]\n",
    "\n",
    "    CR = CI / RI[n-1]\n",
    "\n",
    "    print(f'一致性指标CI={CI}')\n",
    "    print(f'一致性比例CR={CR}')\n",
    "\n",
    "    if CR < 0.1:\n",
    "        print('该指标为强一致性指标')\n",
    "    elif CR >= 0.1 and CR < 0.25:\n",
    "        print('该指标为弱一致性指标')\n",
    "    else:\n",
    "        print('该指标为非一致性指标')\n",
    "\n",
    "    return CR"
   ]
  },
  {
   "cell_type": "code",
   "execution_count": 11,
   "metadata": {},
   "outputs": [
    {
     "name": "stdout",
     "output_type": "stream",
     "text": [
      "一致性指标CI=(0.037610012730716846+0j)\n",
      "一致性比例CR=(0.04225844127046837+0j)\n",
      "该指标为强一致性指标\n"
     ]
    },
    {
     "data": {
      "text/plain": [
       "(0.04225844127046837+0j)"
      ]
     },
     "execution_count": 11,
     "metadata": {},
     "output_type": "execute_result"
    }
   ],
   "source": [
    "CR = Consistency_checks(A)\n",
    "CR"
   ]
  },
  {
   "cell_type": "markdown",
   "metadata": {},
   "source": [
    "#### 2、算数平均法求权重"
   ]
  },
  {
   "cell_type": "code",
   "execution_count": 13,
   "metadata": {},
   "outputs": [],
   "source": [
    "def Arithmetic_averaging(A):\n",
    "    ASum = np.sum(A, axis=0)\n",
    "\n",
    "    n = A.shape[0]\n",
    "\n",
    "    Stand_A  = A / ASum\n",
    "\n",
    "    ASum = np.sum(Stand_A, axis=1)\n",
    "\n",
    "    weights = ASum  / n\n",
    "\n",
    "    return weights"
   ]
  },
  {
   "cell_type": "code",
   "execution_count": 14,
   "metadata": {},
   "outputs": [
    {
     "data": {
      "text/plain": [
       "array([0.48885991, 0.18192996, 0.2318927 , 0.09731744])"
      ]
     },
     "execution_count": 14,
     "metadata": {},
     "output_type": "execute_result"
    }
   ],
   "source": [
    "weigths = Arithmetic_averaging(A)\n",
    "weigths"
   ]
  },
  {
   "cell_type": "markdown",
   "metadata": {},
   "source": [
    "#### 3、几何平均法求权重"
   ]
  },
  {
   "cell_type": "code",
   "execution_count": 15,
   "metadata": {},
   "outputs": [],
   "source": [
    "def Geometric_averaging(A):\n",
    "    A_prod = np.prod(A, axis=1)\n",
    "\n",
    "    n = A.shape[0]\n",
    "\n",
    "    A_prod_n = np.power(A_prod, 1/n)\n",
    "\n",
    "    re_A_prod = A_prod_n / np.sum(A_prod_n)\n",
    "\n",
    "    return re_A_prod"
   ]
  },
  {
   "cell_type": "code",
   "execution_count": 17,
   "metadata": {},
   "outputs": [
    {
     "data": {
      "text/plain": [
       "array([0.49492567, 0.17782883, 0.22724501, 0.1000005 ])"
      ]
     },
     "execution_count": 17,
     "metadata": {},
     "output_type": "execute_result"
    }
   ],
   "source": [
    "weigths = Geometric_averaging(A)\n",
    "weigths"
   ]
  },
  {
   "cell_type": "markdown",
   "metadata": {},
   "source": [
    "#### 4、特征值法求权重"
   ]
  },
  {
   "cell_type": "code",
   "execution_count": 18,
   "metadata": {},
   "outputs": [],
   "source": [
    "def Eigenvalue_method(A):\n",
    "    eig_val, eig_vec = np.linalg.eig(A)\n",
    "\n",
    "    max_index = np.argmax(eig_val)\n",
    "\n",
    "    max_vec = eig_vec[:, max_index]\n",
    "\n",
    "    weigths = max_vec / np.sum(max_vec)\n",
    "\n",
    "    return weigths"
   ]
  },
  {
   "cell_type": "code",
   "execution_count": 19,
   "metadata": {},
   "outputs": [
    {
     "data": {
      "text/plain": [
       "array([0.4933895 +0.j, 0.17884562+0.j, 0.230339  +0.j, 0.09742588+0.j])"
      ]
     },
     "execution_count": 19,
     "metadata": {},
     "output_type": "execute_result"
    }
   ],
   "source": [
    "weigths = Eigenvalue_method(A)\n",
    "weigths"
   ]
  }
 ],
 "metadata": {
  "kernelspec": {
   "display_name": "dl",
   "language": "python",
   "name": "python3"
  },
  "language_info": {
   "codemirror_mode": {
    "name": "ipython",
    "version": 3
   },
   "file_extension": ".py",
   "mimetype": "text/x-python",
   "name": "python",
   "nbconvert_exporter": "python",
   "pygments_lexer": "ipython3",
   "version": "3.9.18"
  }
 },
 "nbformat": 4,
 "nbformat_minor": 2
}
